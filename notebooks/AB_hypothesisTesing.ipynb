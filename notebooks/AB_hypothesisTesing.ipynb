{
 "cells": [
  {
   "cell_type": "markdown",
   "metadata": {},
   "source": [
    "### Importing the Necessary Packages"
   ]
  },
  {
   "cell_type": "code",
   "execution_count": 23,
   "metadata": {},
   "outputs": [],
   "source": [
    "import pandas as pd\n",
    "import numpy as np\n",
    "from scipy import stats\n",
    "import seaborn as sns\n",
    "import matplotlib.pyplot as plt\n",
    "from scipy.stats import chi2_contingency"
   ]
  },
  {
   "cell_type": "markdown",
   "metadata": {},
   "source": [
    "### Loading the Dataset"
   ]
  },
  {
   "cell_type": "code",
   "execution_count": 11,
   "metadata": {},
   "outputs": [
    {
     "name": "stderr",
     "output_type": "stream",
     "text": [
      "C:\\Users\\Blen\\AppData\\Local\\Temp\\ipykernel_23700\\1320821194.py:1: DtypeWarning: Columns (32,37) have mixed types. Specify dtype option on import or set low_memory=False.\n",
      "  data = pd.read_csv('..\\data\\insurance_data.csv')\n"
     ]
    }
   ],
   "source": [
    "data = pd.read_csv('..\\data\\insurance_data.csv')"
   ]
  },
  {
   "cell_type": "markdown",
   "metadata": {},
   "source": [
    "### Ensure the data types are correct (e.g., categorical columns are converted to category type)"
   ]
  },
  {
   "cell_type": "code",
   "execution_count": 21,
   "metadata": {},
   "outputs": [],
   "source": [
    "\n",
    "categorical_columns = ['Province', 'PostalCode', 'Gender']\n",
    "for col in categorical_columns:\n",
    "    data[col] = data[col].astype('category')\n",
    "\n",
    "# Create a new column for profit margin\n",
    "data['ProfitMargin'] = data['TotalPremium'] - data['TotalClaims']\n",
    "data['RiskCategory'] = pd.cut(data['TotalClaims'], bins=[-1, 1000, 5000, np.inf], labels=['Low', 'Medium', 'High'])"
   ]
  },
  {
   "cell_type": "code",
   "execution_count": 22,
   "metadata": {},
   "outputs": [
    {
     "data": {
      "text/html": [
       "<div>\n",
       "<style scoped>\n",
       "    .dataframe tbody tr th:only-of-type {\n",
       "        vertical-align: middle;\n",
       "    }\n",
       "\n",
       "    .dataframe tbody tr th {\n",
       "        vertical-align: top;\n",
       "    }\n",
       "\n",
       "    .dataframe thead th {\n",
       "        text-align: right;\n",
       "    }\n",
       "</style>\n",
       "<table border=\"1\" class=\"dataframe\">\n",
       "  <thead>\n",
       "    <tr style=\"text-align: right;\">\n",
       "      <th></th>\n",
       "      <th>UnderwrittenCoverID</th>\n",
       "      <th>PolicyID</th>\n",
       "      <th>TransactionMonth</th>\n",
       "      <th>IsVATRegistered</th>\n",
       "      <th>Citizenship</th>\n",
       "      <th>LegalType</th>\n",
       "      <th>Title</th>\n",
       "      <th>Language</th>\n",
       "      <th>Bank</th>\n",
       "      <th>AccountType</th>\n",
       "      <th>...</th>\n",
       "      <th>CoverType</th>\n",
       "      <th>CoverGroup</th>\n",
       "      <th>Section</th>\n",
       "      <th>Product</th>\n",
       "      <th>StatutoryClass</th>\n",
       "      <th>StatutoryRiskType</th>\n",
       "      <th>TotalPremium</th>\n",
       "      <th>TotalClaims</th>\n",
       "      <th>ProfitMargin</th>\n",
       "      <th>RiskCategory</th>\n",
       "    </tr>\n",
       "  </thead>\n",
       "  <tbody>\n",
       "    <tr>\n",
       "      <th>0</th>\n",
       "      <td>145249</td>\n",
       "      <td>12827</td>\n",
       "      <td>2015-03-01 00:00:00</td>\n",
       "      <td>True</td>\n",
       "      <td></td>\n",
       "      <td>Close Corporation</td>\n",
       "      <td>Mr</td>\n",
       "      <td>English</td>\n",
       "      <td>First National Bank</td>\n",
       "      <td>Current account</td>\n",
       "      <td>...</td>\n",
       "      <td>Windscreen</td>\n",
       "      <td>Comprehensive - Taxi</td>\n",
       "      <td>Motor Comprehensive</td>\n",
       "      <td>Mobility Metered Taxis: Monthly</td>\n",
       "      <td>Commercial</td>\n",
       "      <td>IFRS Constant</td>\n",
       "      <td>21.929825</td>\n",
       "      <td>0.0</td>\n",
       "      <td>21.929825</td>\n",
       "      <td>Low</td>\n",
       "    </tr>\n",
       "    <tr>\n",
       "      <th>1</th>\n",
       "      <td>145249</td>\n",
       "      <td>12827</td>\n",
       "      <td>2015-05-01 00:00:00</td>\n",
       "      <td>True</td>\n",
       "      <td></td>\n",
       "      <td>Close Corporation</td>\n",
       "      <td>Mr</td>\n",
       "      <td>English</td>\n",
       "      <td>First National Bank</td>\n",
       "      <td>Current account</td>\n",
       "      <td>...</td>\n",
       "      <td>Windscreen</td>\n",
       "      <td>Comprehensive - Taxi</td>\n",
       "      <td>Motor Comprehensive</td>\n",
       "      <td>Mobility Metered Taxis: Monthly</td>\n",
       "      <td>Commercial</td>\n",
       "      <td>IFRS Constant</td>\n",
       "      <td>21.929825</td>\n",
       "      <td>0.0</td>\n",
       "      <td>21.929825</td>\n",
       "      <td>Low</td>\n",
       "    </tr>\n",
       "    <tr>\n",
       "      <th>2</th>\n",
       "      <td>145249</td>\n",
       "      <td>12827</td>\n",
       "      <td>2015-07-01 00:00:00</td>\n",
       "      <td>True</td>\n",
       "      <td></td>\n",
       "      <td>Close Corporation</td>\n",
       "      <td>Mr</td>\n",
       "      <td>English</td>\n",
       "      <td>First National Bank</td>\n",
       "      <td>Current account</td>\n",
       "      <td>...</td>\n",
       "      <td>Windscreen</td>\n",
       "      <td>Comprehensive - Taxi</td>\n",
       "      <td>Motor Comprehensive</td>\n",
       "      <td>Mobility Metered Taxis: Monthly</td>\n",
       "      <td>Commercial</td>\n",
       "      <td>IFRS Constant</td>\n",
       "      <td>0.000000</td>\n",
       "      <td>0.0</td>\n",
       "      <td>0.000000</td>\n",
       "      <td>Low</td>\n",
       "    </tr>\n",
       "    <tr>\n",
       "      <th>3</th>\n",
       "      <td>145255</td>\n",
       "      <td>12827</td>\n",
       "      <td>2015-05-01 00:00:00</td>\n",
       "      <td>True</td>\n",
       "      <td></td>\n",
       "      <td>Close Corporation</td>\n",
       "      <td>Mr</td>\n",
       "      <td>English</td>\n",
       "      <td>First National Bank</td>\n",
       "      <td>Current account</td>\n",
       "      <td>...</td>\n",
       "      <td>Own Damage</td>\n",
       "      <td>Comprehensive - Taxi</td>\n",
       "      <td>Motor Comprehensive</td>\n",
       "      <td>Mobility Metered Taxis: Monthly</td>\n",
       "      <td>Commercial</td>\n",
       "      <td>IFRS Constant</td>\n",
       "      <td>2.191491</td>\n",
       "      <td>0.0</td>\n",
       "      <td>2.191491</td>\n",
       "      <td>Low</td>\n",
       "    </tr>\n",
       "    <tr>\n",
       "      <th>4</th>\n",
       "      <td>145255</td>\n",
       "      <td>12827</td>\n",
       "      <td>2015-07-01 00:00:00</td>\n",
       "      <td>True</td>\n",
       "      <td></td>\n",
       "      <td>Close Corporation</td>\n",
       "      <td>Mr</td>\n",
       "      <td>English</td>\n",
       "      <td>First National Bank</td>\n",
       "      <td>Current account</td>\n",
       "      <td>...</td>\n",
       "      <td>Own Damage</td>\n",
       "      <td>Comprehensive - Taxi</td>\n",
       "      <td>Motor Comprehensive</td>\n",
       "      <td>Mobility Metered Taxis: Monthly</td>\n",
       "      <td>Commercial</td>\n",
       "      <td>IFRS Constant</td>\n",
       "      <td>0.000000</td>\n",
       "      <td>0.0</td>\n",
       "      <td>0.000000</td>\n",
       "      <td>Low</td>\n",
       "    </tr>\n",
       "  </tbody>\n",
       "</table>\n",
       "<p>5 rows × 54 columns</p>\n",
       "</div>"
      ],
      "text/plain": [
       "   UnderwrittenCoverID  PolicyID     TransactionMonth  IsVATRegistered  \\\n",
       "0               145249     12827  2015-03-01 00:00:00             True   \n",
       "1               145249     12827  2015-05-01 00:00:00             True   \n",
       "2               145249     12827  2015-07-01 00:00:00             True   \n",
       "3               145255     12827  2015-05-01 00:00:00             True   \n",
       "4               145255     12827  2015-07-01 00:00:00             True   \n",
       "\n",
       "  Citizenship          LegalType Title Language                 Bank  \\\n",
       "0              Close Corporation    Mr  English  First National Bank   \n",
       "1              Close Corporation    Mr  English  First National Bank   \n",
       "2              Close Corporation    Mr  English  First National Bank   \n",
       "3              Close Corporation    Mr  English  First National Bank   \n",
       "4              Close Corporation    Mr  English  First National Bank   \n",
       "\n",
       "       AccountType  ...   CoverType            CoverGroup  \\\n",
       "0  Current account  ...  Windscreen  Comprehensive - Taxi   \n",
       "1  Current account  ...  Windscreen  Comprehensive - Taxi   \n",
       "2  Current account  ...  Windscreen  Comprehensive - Taxi   \n",
       "3  Current account  ...  Own Damage  Comprehensive - Taxi   \n",
       "4  Current account  ...  Own Damage  Comprehensive - Taxi   \n",
       "\n",
       "               Section                          Product StatutoryClass  \\\n",
       "0  Motor Comprehensive  Mobility Metered Taxis: Monthly     Commercial   \n",
       "1  Motor Comprehensive  Mobility Metered Taxis: Monthly     Commercial   \n",
       "2  Motor Comprehensive  Mobility Metered Taxis: Monthly     Commercial   \n",
       "3  Motor Comprehensive  Mobility Metered Taxis: Monthly     Commercial   \n",
       "4  Motor Comprehensive  Mobility Metered Taxis: Monthly     Commercial   \n",
       "\n",
       "  StatutoryRiskType TotalPremium TotalClaims  ProfitMargin RiskCategory  \n",
       "0     IFRS Constant    21.929825         0.0     21.929825          Low  \n",
       "1     IFRS Constant    21.929825         0.0     21.929825          Low  \n",
       "2     IFRS Constant     0.000000         0.0      0.000000          Low  \n",
       "3     IFRS Constant     2.191491         0.0      2.191491          Low  \n",
       "4     IFRS Constant     0.000000         0.0      0.000000          Low  \n",
       "\n",
       "[5 rows x 54 columns]"
      ]
     },
     "execution_count": 22,
     "metadata": {},
     "output_type": "execute_result"
    }
   ],
   "source": [
    "data.head()"
   ]
  },
  {
   "cell_type": "markdown",
   "metadata": {},
   "source": [
    "### Hypothesis Testing"
   ]
  },
  {
   "cell_type": "markdown",
   "metadata": {},
   "source": [
    "#### Hypothesis 1: \"There are no risk differences across provinces\""
   ]
  },
  {
   "cell_type": "markdown",
   "metadata": {},
   "source": [
    "##### Step 1: Select Metrics and Segment Data\n"
   ]
  },
  {
   "cell_type": "code",
   "execution_count": 15,
   "metadata": {},
   "outputs": [
    {
     "name": "stdout",
     "output_type": "stream",
     "text": [
      "Province\n",
      "Eastern Cape     1.356427e+06\n",
      "Free State       3.549223e+05\n",
      "Gauteng          2.888766e+07\n",
      "KwaZulu-Natal    1.430138e+07\n",
      "Limpopo          1.016477e+06\n",
      "Mpumalanga       2.044675e+06\n",
      "North West       5.920250e+06\n",
      "Northern Cape    8.949051e+04\n",
      "Western Cape     9.831361e+06\n",
      "Name: TotalClaims, dtype: float64\n"
     ]
    },
    {
     "name": "stderr",
     "output_type": "stream",
     "text": [
      "C:\\Users\\Blen\\AppData\\Local\\Temp\\ipykernel_23700\\2166363227.py:2: FutureWarning: The default of observed=False is deprecated and will be changed to True in a future version of pandas. Pass observed=False to retain current behavior or observed=True to adopt the future default and silence this warning.\n",
      "  province_claims = data.groupby('Province')['TotalClaims'].sum()\n"
     ]
    }
   ],
   "source": [
    "# Group data by Province and calculate total claims\n",
    "province_claims = data.groupby('Province')['TotalClaims'].sum()\n",
    "\n",
    "# Check the total claims by province\n",
    "print(province_claims)\n"
   ]
  },
  {
   "cell_type": "markdown",
   "metadata": {},
   "source": [
    "##### Step 2: Feature Selection and Segmentation into Groups"
   ]
  },
  {
   "cell_type": "code",
   "execution_count": 25,
   "metadata": {},
   "outputs": [
    {
     "name": "stdout",
     "output_type": "stream",
     "text": [
      "Reject the null hypothesis: There are significant risk differences across provinces.\n"
     ]
    },
    {
     "data": {
      "image/png": "[encoded data removed]",
      "text/plain": [
       "<Figure size 640x480 with 2 Axes>"
      ]
     },
     "metadata": {},
     "output_type": "display_data"
    }
   ],
   "source": [
    "# Create a contingency table of Province vs RiskCategory\n",
    "contingency_table = pd.crosstab(data['Province'], data['RiskCategory'])\n",
    "\n",
    "# Perform Chi-Square test for independence\n",
    "chi2_stat, p_value, dof, expected = chi2_contingency(contingency_table)\n",
    "\n",
    "# Interpretation\n",
    "alpha = 0.05\n",
    "if p_value < alpha:\n",
    "    print(\"Reject the null hypothesis: There are significant risk differences across provinces.\")\n",
    "else:\n",
    "    print(\"Fail to reject the null hypothesis: No significant risk differences across provinces.\")\n",
    "    \n",
    "# Optionally visualize the result\n",
    "sns.heatmap(contingency_table, annot=True, cmap='coolwarm', fmt='d')\n",
    "plt.title('Risk Category Distribution Across Provinces')\n",
    "plt.show()\n"
   ]
  },
  {
   "cell_type": "markdown",
   "metadata": {},
   "source": [
    "##### Step 3: Check for Statistical Equivalence"
   ]
  },
  {
   "cell_type": "code",
   "execution_count": 26,
   "metadata": {},
   "outputs": [
    {
     "name": "stdout",
     "output_type": "stream",
     "text": [
      "There is a significant difference in VehicleType distribution across provinces.\n"
     ]
    }
   ],
   "source": [
    "# Example: Test if VehicleType is equally distributed across provinces\n",
    "\n",
    "vehicle_type_contingency_table = pd.crosstab(data['Province'], data['VehicleType'])\n",
    "chi2_stat_vehicle, p_value_vehicle, dof_vehicle, expected_vehicle = chi2_contingency(vehicle_type_contingency_table)\n",
    "\n",
    "# Interpretation\n",
    "if p_value_vehicle < alpha:\n",
    "    print(\"There is a significant difference in VehicleType distribution across provinces.\")\n",
    "else:\n",
    "    print(\"VehicleType distribution is similar across provinces.\")\n"
   ]
  },
  {
   "cell_type": "code",
   "execution_count": 29,
   "metadata": {},
   "outputs": [
    {
     "name": "stdout",
     "output_type": "stream",
     "text": [
      "There is a significant difference in Marital Status distribution across provinces.\n"
     ]
    }
   ],
   "source": [
    "# Example: Test if Marital Status is equally distributed across provinces\n",
    "\n",
    "vehicle_type_contingency_table = pd.crosstab(data['Province'], data['MaritalStatus'])\n",
    "chi2_stat_vehicle, p_value_vehicle, dof_vehicle, expected_vehicle = chi2_contingency(vehicle_type_contingency_table)\n",
    "\n",
    "# Interpretation\n",
    "if p_value_vehicle < alpha:\n",
    "    print(\"There is a significant difference in Marital Status distribution across provinces.\")\n",
    "else:\n",
    "    print(\"Marital Status distribution is similar across provinces.\")\n"
   ]
  },
  {
   "cell_type": "code",
   "execution_count": 30,
   "metadata": {},
   "outputs": [
    {
     "name": "stdout",
     "output_type": "stream",
     "text": [
      "There is a significant difference in Marital Status distribution across provinces.\n"
     ]
    }
   ],
   "source": [
    "# Example: Test if Gender is equally distributed across provinces\n",
    "\n",
    "vehicle_type_contingency_table = pd.crosstab(data['Province'], data['Gender'])\n",
    "chi2_stat_vehicle, p_value_vehicle, dof_vehicle, expected_vehicle = chi2_contingency(vehicle_type_contingency_table)\n",
    "\n",
    "# Interpretation\n",
    "if p_value_vehicle < alpha:\n",
    "    print(\"There is a significant difference in Marital Status distribution across provinces.\")\n",
    "else:\n",
    "    print(\"Marital Status distribution is similar across provinces.\")"
   ]
  },
  {
   "cell_type": "code",
   "execution_count": null,
   "metadata": {},
   "outputs": [],
   "source": []
  }
 ],
 "metadata": {
  "kernelspec": {
   "display_name": ".venv",
   "language": "python",
   "name": "python3"
  },
  "language_info": {
   "codemirror_mode": {
    "name": "ipython",
    "version": 3
   },
   "file_extension": ".py",
   "mimetype": "text/x-python",
   "name": "python",
   "nbconvert_exporter": "python",
   "pygments_lexer": "ipython3",
   "version": "3.11.5"
  }
 },
 "nbformat": 4,
 "nbformat_minor": 2
}
