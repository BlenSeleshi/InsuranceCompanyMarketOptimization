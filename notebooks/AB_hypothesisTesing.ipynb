{
 "cells": [
  {
   "cell_type": "markdown",
   "metadata": {},
   "source": [
    "### Importing the Necessary Packages"
   ]
  },
  {
   "cell_type": "code",
   "execution_count": 47,
   "metadata": {},
   "outputs": [],
   "source": [
    "import pandas as pd\n",
    "import numpy as np\n",
    "from scipy import stats\n",
    "import seaborn as sns\n",
    "import matplotlib.pyplot as plt\n",
    "from scipy.stats import chi2_contingency, ttest_ind\n",
    "from sklearn.model_selection import StratifiedShuffleSplit"
   ]
  },
  {
   "cell_type": "markdown",
   "metadata": {},
   "source": [
    "### Loading the Dataset"
   ]
  },
  {
   "cell_type": "code",
   "execution_count": 11,
   "metadata": {},
   "outputs": [
    {
     "name": "stderr",
     "output_type": "stream",
     "text": [
      "C:\\Users\\Blen\\AppData\\Local\\Temp\\ipykernel_23700\\1320821194.py:1: DtypeWarning: Columns (32,37) have mixed types. Specify dtype option on import or set low_memory=False.\n",
      "  data = pd.read_csv('..\\data\\insurance_data.csv')\n"
     ]
    }
   ],
   "source": [
    "data = pd.read_csv('..\\data\\insurance_data.csv')"
   ]
  },
  {
   "cell_type": "markdown",
   "metadata": {},
   "source": [
    "### Ensure the data types are correct (e.g., categorical columns are converted to category type)"
   ]
  },
  {
   "cell_type": "code",
   "execution_count": 21,
   "metadata": {},
   "outputs": [],
   "source": [
    "\n",
    "categorical_columns = ['Province', 'PostalCode', 'Gender']\n",
    "for col in categorical_columns:\n",
    "    data[col] = data[col].astype('category')\n",
    "\n",
    "# Create a new column for profit margin\n",
    "data['ProfitMargin'] = data['TotalPremium'] - data['TotalClaims']\n",
    "data['RiskCategory'] = pd.cut(data['TotalClaims'], bins=[-1, 1000, 5000, np.inf], labels=['Low', 'Medium', 'High'])"
   ]
  },
  {
   "cell_type": "code",
   "execution_count": 22,
   "metadata": {},
   "outputs": [
    {
     "data": {
      "text/html": [
       "<div>\n",
       "<style scoped>\n",
       "    .dataframe tbody tr th:only-of-type {\n",
       "        vertical-align: middle;\n",
       "    }\n",
       "\n",
       "    .dataframe tbody tr th {\n",
       "        vertical-align: top;\n",
       "    }\n",
       "\n",
       "    .dataframe thead th {\n",
       "        text-align: right;\n",
       "    }\n",
       "</style>\n",
       "<table border=\"1\" class=\"dataframe\">\n",
       "  <thead>\n",
       "    <tr style=\"text-align: right;\">\n",
       "      <th></th>\n",
       "      <th>UnderwrittenCoverID</th>\n",
       "      <th>PolicyID</th>\n",
       "      <th>TransactionMonth</th>\n",
       "      <th>IsVATRegistered</th>\n",
       "      <th>Citizenship</th>\n",
       "      <th>LegalType</th>\n",
       "      <th>Title</th>\n",
       "      <th>Language</th>\n",
       "      <th>Bank</th>\n",
       "      <th>AccountType</th>\n",
       "      <th>...</th>\n",
       "      <th>CoverType</th>\n",
       "      <th>CoverGroup</th>\n",
       "      <th>Section</th>\n",
       "      <th>Product</th>\n",
       "      <th>StatutoryClass</th>\n",
       "      <th>StatutoryRiskType</th>\n",
       "      <th>TotalPremium</th>\n",
       "      <th>TotalClaims</th>\n",
       "      <th>ProfitMargin</th>\n",
       "      <th>RiskCategory</th>\n",
       "    </tr>\n",
       "  </thead>\n",
       "  <tbody>\n",
       "    <tr>\n",
       "      <th>0</th>\n",
       "      <td>145249</td>\n",
       "      <td>12827</td>\n",
       "      <td>2015-03-01 00:00:00</td>\n",
       "      <td>True</td>\n",
       "      <td></td>\n",
       "      <td>Close Corporation</td>\n",
       "      <td>Mr</td>\n",
       "      <td>English</td>\n",
       "      <td>First National Bank</td>\n",
       "      <td>Current account</td>\n",
       "      <td>...</td>\n",
       "      <td>Windscreen</td>\n",
       "      <td>Comprehensive - Taxi</td>\n",
       "      <td>Motor Comprehensive</td>\n",
       "      <td>Mobility Metered Taxis: Monthly</td>\n",
       "      <td>Commercial</td>\n",
       "      <td>IFRS Constant</td>\n",
       "      <td>21.929825</td>\n",
       "      <td>0.0</td>\n",
       "      <td>21.929825</td>\n",
       "      <td>Low</td>\n",
       "    </tr>\n",
       "    <tr>\n",
       "      <th>1</th>\n",
       "      <td>145249</td>\n",
       "      <td>12827</td>\n",
       "      <td>2015-05-01 00:00:00</td>\n",
       "      <td>True</td>\n",
       "      <td></td>\n",
       "      <td>Close Corporation</td>\n",
       "      <td>Mr</td>\n",
       "      <td>English</td>\n",
       "      <td>First National Bank</td>\n",
       "      <td>Current account</td>\n",
       "      <td>...</td>\n",
       "      <td>Windscreen</td>\n",
       "      <td>Comprehensive - Taxi</td>\n",
       "      <td>Motor Comprehensive</td>\n",
       "      <td>Mobility Metered Taxis: Monthly</td>\n",
       "      <td>Commercial</td>\n",
       "      <td>IFRS Constant</td>\n",
       "      <td>21.929825</td>\n",
       "      <td>0.0</td>\n",
       "      <td>21.929825</td>\n",
       "      <td>Low</td>\n",
       "    </tr>\n",
       "    <tr>\n",
       "      <th>2</th>\n",
       "      <td>145249</td>\n",
       "      <td>12827</td>\n",
       "      <td>2015-07-01 00:00:00</td>\n",
       "      <td>True</td>\n",
       "      <td></td>\n",
       "      <td>Close Corporation</td>\n",
       "      <td>Mr</td>\n",
       "      <td>English</td>\n",
       "      <td>First National Bank</td>\n",
       "      <td>Current account</td>\n",
       "      <td>...</td>\n",
       "      <td>Windscreen</td>\n",
       "      <td>Comprehensive - Taxi</td>\n",
       "      <td>Motor Comprehensive</td>\n",
       "      <td>Mobility Metered Taxis: Monthly</td>\n",
       "      <td>Commercial</td>\n",
       "      <td>IFRS Constant</td>\n",
       "      <td>0.000000</td>\n",
       "      <td>0.0</td>\n",
       "      <td>0.000000</td>\n",
       "      <td>Low</td>\n",
       "    </tr>\n",
       "    <tr>\n",
       "      <th>3</th>\n",
       "      <td>145255</td>\n",
       "      <td>12827</td>\n",
       "      <td>2015-05-01 00:00:00</td>\n",
       "      <td>True</td>\n",
       "      <td></td>\n",
       "      <td>Close Corporation</td>\n",
       "      <td>Mr</td>\n",
       "      <td>English</td>\n",
       "      <td>First National Bank</td>\n",
       "      <td>Current account</td>\n",
       "      <td>...</td>\n",
       "      <td>Own Damage</td>\n",
       "      <td>Comprehensive - Taxi</td>\n",
       "      <td>Motor Comprehensive</td>\n",
       "      <td>Mobility Metered Taxis: Monthly</td>\n",
       "      <td>Commercial</td>\n",
       "      <td>IFRS Constant</td>\n",
       "      <td>2.191491</td>\n",
       "      <td>0.0</td>\n",
       "      <td>2.191491</td>\n",
       "      <td>Low</td>\n",
       "    </tr>\n",
       "    <tr>\n",
       "      <th>4</th>\n",
       "      <td>145255</td>\n",
       "      <td>12827</td>\n",
       "      <td>2015-07-01 00:00:00</td>\n",
       "      <td>True</td>\n",
       "      <td></td>\n",
       "      <td>Close Corporation</td>\n",
       "      <td>Mr</td>\n",
       "      <td>English</td>\n",
       "      <td>First National Bank</td>\n",
       "      <td>Current account</td>\n",
       "      <td>...</td>\n",
       "      <td>Own Damage</td>\n",
       "      <td>Comprehensive - Taxi</td>\n",
       "      <td>Motor Comprehensive</td>\n",
       "      <td>Mobility Metered Taxis: Monthly</td>\n",
       "      <td>Commercial</td>\n",
       "      <td>IFRS Constant</td>\n",
       "      <td>0.000000</td>\n",
       "      <td>0.0</td>\n",
       "      <td>0.000000</td>\n",
       "      <td>Low</td>\n",
       "    </tr>\n",
       "  </tbody>\n",
       "</table>\n",
       "<p>5 rows × 54 columns</p>\n",
       "</div>"
      ],
      "text/plain": [
       "   UnderwrittenCoverID  PolicyID     TransactionMonth  IsVATRegistered  \\\n",
       "0               145249     12827  2015-03-01 00:00:00             True   \n",
       "1               145249     12827  2015-05-01 00:00:00             True   \n",
       "2               145249     12827  2015-07-01 00:00:00             True   \n",
       "3               145255     12827  2015-05-01 00:00:00             True   \n",
       "4               145255     12827  2015-07-01 00:00:00             True   \n",
       "\n",
       "  Citizenship          LegalType Title Language                 Bank  \\\n",
       "0              Close Corporation    Mr  English  First National Bank   \n",
       "1              Close Corporation    Mr  English  First National Bank   \n",
       "2              Close Corporation    Mr  English  First National Bank   \n",
       "3              Close Corporation    Mr  English  First National Bank   \n",
       "4              Close Corporation    Mr  English  First National Bank   \n",
       "\n",
       "       AccountType  ...   CoverType            CoverGroup  \\\n",
       "0  Current account  ...  Windscreen  Comprehensive - Taxi   \n",
       "1  Current account  ...  Windscreen  Comprehensive - Taxi   \n",
       "2  Current account  ...  Windscreen  Comprehensive - Taxi   \n",
       "3  Current account  ...  Own Damage  Comprehensive - Taxi   \n",
       "4  Current account  ...  Own Damage  Comprehensive - Taxi   \n",
       "\n",
       "               Section                          Product StatutoryClass  \\\n",
       "0  Motor Comprehensive  Mobility Metered Taxis: Monthly     Commercial   \n",
       "1  Motor Comprehensive  Mobility Metered Taxis: Monthly     Commercial   \n",
       "2  Motor Comprehensive  Mobility Metered Taxis: Monthly     Commercial   \n",
       "3  Motor Comprehensive  Mobility Metered Taxis: Monthly     Commercial   \n",
       "4  Motor Comprehensive  Mobility Metered Taxis: Monthly     Commercial   \n",
       "\n",
       "  StatutoryRiskType TotalPremium TotalClaims  ProfitMargin RiskCategory  \n",
       "0     IFRS Constant    21.929825         0.0     21.929825          Low  \n",
       "1     IFRS Constant    21.929825         0.0     21.929825          Low  \n",
       "2     IFRS Constant     0.000000         0.0      0.000000          Low  \n",
       "3     IFRS Constant     2.191491         0.0      2.191491          Low  \n",
       "4     IFRS Constant     0.000000         0.0      0.000000          Low  \n",
       "\n",
       "[5 rows x 54 columns]"
      ]
     },
     "execution_count": 22,
     "metadata": {},
     "output_type": "execute_result"
    }
   ],
   "source": [
    "data.head()"
   ]
  },
  {
   "cell_type": "markdown",
   "metadata": {},
   "source": [
    "### Hypothesis Testing"
   ]
  },
  {
   "cell_type": "markdown",
   "metadata": {},
   "source": [
    "#### Hypothesis 1: \"There are no risk differences across provinces\""
   ]
  },
  {
   "cell_type": "markdown",
   "metadata": {},
   "source": [
    "##### Step 1: Select Metrics and Segment Data\n"
   ]
  },
  {
   "cell_type": "code",
   "execution_count": 87,
   "metadata": {},
   "outputs": [
    {
     "name": "stdout",
     "output_type": "stream",
     "text": [
      "Province\n",
      "Eastern Cape     1.356427e+06\n",
      "Free State       3.549223e+05\n",
      "Gauteng          2.888766e+07\n",
      "KwaZulu-Natal    1.430138e+07\n",
      "Limpopo          1.016477e+06\n",
      "Mpumalanga       2.044675e+06\n",
      "North West       5.920250e+06\n",
      "Northern Cape    8.949051e+04\n",
      "Western Cape     9.831361e+06\n",
      "Name: TotalClaims, dtype: float64\n"
     ]
    },
    {
     "name": "stderr",
     "output_type": "stream",
     "text": [
      "C:\\Users\\Blen\\AppData\\Local\\Temp\\ipykernel_23700\\2166363227.py:2: FutureWarning: The default of observed=False is deprecated and will be changed to True in a future version of pandas. Pass observed=False to retain current behavior or observed=True to adopt the future default and silence this warning.\n",
      "  province_claims = data.groupby('Province')['TotalClaims'].sum()\n"
     ]
    }
   ],
   "source": [
    "# Group data by Province and calculate total claims\n",
    "province_claims = data.groupby('Province')['TotalClaims'].sum()\n",
    "\n",
    "# Check the total claims by province\n",
    "print(province_claims)\n"
   ]
  },
  {
   "cell_type": "markdown",
   "metadata": {},
   "source": [
    "##### Step 2:  Feature Selection and Segmentation into Groups"
   ]
  },
  {
   "cell_type": "code",
   "execution_count": 99,
   "metadata": {},
   "outputs": [],
   "source": [
    "# Splitting data into two provinces\n",
    "group_A = data[data['Province'] == 'Gauteng']  # Example province\n",
    "group_B = data[data['Province'] == 'Western Cape']  # Another province\n"
   ]
  },
  {
   "cell_type": "markdown",
   "metadata": {},
   "source": [
    "##### Step 3:  Statistical Equivalence Check"
   ]
  },
  {
   "cell_type": "code",
   "execution_count": 100,
   "metadata": {},
   "outputs": [
    {
     "name": "stdout",
     "output_type": "stream",
     "text": [
      "Marital Status: Chi-Square: 11959.167120437687, p-value: 0.0\n",
      "Group A and Group B differ significantly in marital status. Adjust the groups.\n"
     ]
    }
   ],
   "source": [
    "\n",
    "# Create a contingency table for Marital Status in Group A and Group B\n",
    "contingency_table_marital_status = pd.crosstab(data['MaritalStatus'], data['Province'])\n",
    "\n",
    "# Perform Chi-Square Test for Marital Status\n",
    "chi2_marital, p_marital, dof_marital, expected_marital = chi2_contingency(contingency_table_marital_status)\n",
    "\n",
    "print(f\"Marital Status: Chi-Square: {chi2_marital}, p-value: {p_marital}\")\n",
    "\n",
    "if p_marital < 0.05:\n",
    "    print(\"Group A and Group B differ significantly in marital status. Adjust the groups.\")\n",
    "else:\n",
    "    print(\"No significant difference in marital status between the groups.\")\n"
   ]
  },
  {
   "cell_type": "code",
   "execution_count": 90,
   "metadata": {},
   "outputs": [
    {
     "name": "stdout",
     "output_type": "stream",
     "text": [
      "Vehicle Type: Chi-Square: 21634.925901482635, p-value: 0.0\n",
      "Group A and Group B differ significantly in Vehicle Type. Adjust the groups.\n"
     ]
    }
   ],
   "source": [
    "# Create a contingency table for VehicleType in Group A and Group B\n",
    "contingency_table_vehicle_type = pd.crosstab(data['VehicleType'], data['Province'])\n",
    "\n",
    "# Perform Chi-Square Test for Vehicle Type\n",
    "chi2_vehicle, p_vehicle, dof_vehicle, expected_vehicle = chi2_contingency(contingency_table_vehicle_type)\n",
    "\n",
    "print(f\"Vehicle Type: Chi-Square: {chi2_vehicle}, p-value: {p_vehicle}\")\n",
    "\n",
    "if p_vehicle < 0.05:\n",
    "    print(\"Group A and Group B differ significantly in Vehicle Type. Adjust the groups.\")\n",
    "else:\n",
    "    print(\"No significant difference in Vehicle Type between the groups.\")\n"
   ]
  },
  {
   "cell_type": "code",
   "execution_count": 101,
   "metadata": {},
   "outputs": [
    {
     "name": "stdout",
     "output_type": "stream",
     "text": [
      "Sum Insured: T-Statistic: -3.5346734614051325, p-value: 0.0004083124994400181\n",
      "Group A and Group B differ significantly in Sum Insured. Adjust the groups.\n"
     ]
    }
   ],
   "source": [
    "\n",
    "# Perform T-test for SumInsured between Group A and Group B\n",
    "t_stat_suminsured, p_suminsured = ttest_ind(group_A['SumInsured'], group_B['SumInsured'])\n",
    "\n",
    "print(f\"Sum Insured: T-Statistic: {t_stat_suminsured}, p-value: {p_suminsured}\")\n",
    "\n",
    "if p_suminsured < 0.05:\n",
    "    print(\"Group A and Group B differ significantly in Sum Insured. Adjust the groups.\")\n",
    "else:\n",
    "    print(\"No significant difference in Sum Insured between the groups.\")\n"
   ]
  },
  {
   "cell_type": "markdown",
   "metadata": {},
   "source": [
    "##### Step 4: Adjust Groups \n",
    "For example, using sklearn’s StratifiedShuffleSplit to balance the groups while keeping the feature distributions equivalent"
   ]
  },
  {
   "cell_type": "code",
   "execution_count": 102,
   "metadata": {},
   "outputs": [],
   "source": [
    "from sklearn.model_selection import StratifiedShuffleSplit\n",
    "\n",
    "# Let's say we want to stratify based on 'MaritalStatus' while splitting into two groups\n",
    "split = StratifiedShuffleSplit(n_splits=1, test_size=0.5, random_state=42)\n",
    "\n",
    "for train_index, test_index in split.split(data, data['MaritalStatus']):\n",
    "    group_A = data.loc[train_index]\n",
    "    group_B = data.loc[test_index]\n",
    "\n",
    "# Now we have two groups A and B that are balanced in terms of 'MaritalStatus'\n"
   ]
  },
  {
   "cell_type": "code",
   "execution_count": 103,
   "metadata": {},
   "outputs": [],
   "source": [
    "from sklearn.model_selection import StratifiedShuffleSplit\n",
    "\n",
    "# Let's say we want to stratify based on 'Gender' while splitting into two groups\n",
    "split = StratifiedShuffleSplit(n_splits=1, test_size=0.5, random_state=42)\n",
    "\n",
    "for train_index, test_index in split.split(data, data['Gender']):\n",
    "    group_A = data.loc[train_index]\n",
    "    group_B = data.loc[test_index]\n",
    "\n",
    "# Now we have two groups A and B that are balanced in terms of 'Gender'\n"
   ]
  },
  {
   "cell_type": "code",
   "execution_count": 104,
   "metadata": {},
   "outputs": [],
   "source": [
    "\n",
    "split = StratifiedShuffleSplit(n_splits=1, test_size=0.5, random_state=42)\n",
    "\n",
    "for train_index, test_index in split.split(data, data['VehicleType']):\n",
    "    group_A = data.loc[train_index]\n",
    "    group_B = data.loc[test_index]\n",
    "\n",
    "# Now we have two groups A and B that are balanced in terms of 'VehicleType'\n"
   ]
  },
  {
   "cell_type": "code",
   "execution_count": 105,
   "metadata": {},
   "outputs": [],
   "source": [
    "\n",
    "split = StratifiedShuffleSplit(n_splits=1, test_size=0.5, random_state=42)\n",
    "\n",
    "for train_index, test_index in split.split(data, data['CoverType']):\n",
    "    group_A = data.loc[train_index]\n",
    "    group_B = data.loc[test_index]\n",
    "\n",
    "# Now we have two groups A and B that are balanced in terms of 'CoverType'"
   ]
  },
  {
   "cell_type": "markdown",
   "metadata": {},
   "source": [
    "##### Step 5: Checking if our adjustment worked"
   ]
  },
  {
   "cell_type": "code",
   "execution_count": 106,
   "metadata": {},
   "outputs": [
    {
     "name": "stdout",
     "output_type": "stream",
     "text": [
      "Sum Insured: T-Statistic: -0.03583851955332036, p-value: 0.9714111258502445\n",
      "No significant difference in Sum Insured between the groups.\n"
     ]
    }
   ],
   "source": [
    "# Perform T-test for SumInsured between Group A and Group B\n",
    "t_stat_suminsured, p_suminsured = ttest_ind(group_A['SumInsured'], group_B['SumInsured'])\n",
    "\n",
    "print(f\"Sum Insured: T-Statistic: {t_stat_suminsured}, p-value: {p_suminsured}\")\n",
    "\n",
    "if p_suminsured < 0.05:\n",
    "    print(\"Group A and Group B differ significantly in Sum Insured. Adjust the groups.\")\n",
    "else:\n",
    "    print(\"No significant difference in Sum Insured between the groups.\")"
   ]
  },
  {
   "cell_type": "markdown",
   "metadata": {},
   "source": [
    "##### Step 5: Hypothesis 1 (Risk Differences Across Provinces):"
   ]
  },
  {
   "cell_type": "code",
   "execution_count": 107,
   "metadata": {},
   "outputs": [
    {
     "name": "stdout",
     "output_type": "stream",
     "text": [
      "T-Test for Total Claims between Gauteng and Western Cape: T-Statistic = 0.02485786356179346, p-value = 0.9801683418578361\n",
      "Fail to reject the null hypothesis: There are no significant risk differences across provinces.\n"
     ]
    }
   ],
   "source": [
    "# Perform T-test on TotalClaims\n",
    "t_stat_claims, p_claims = ttest_ind(group_A['TotalClaims'], group_B['TotalClaims'], nan_policy='omit')\n",
    "\n",
    "# Output result\n",
    "print(f\"T-Test for Total Claims between Gauteng and Western Cape: T-Statistic = {t_stat_claims}, p-value = {p_claims}\")\n",
    "\n",
    "# Interpret the result\n",
    "if p_claims < 0.05:\n",
    "    print(\"Reject the null hypothesis: There are significant risk differences across provinces.\")\n",
    "else:\n",
    "    print(\"Fail to reject the null hypothesis: There are no significant risk differences across provinces.\")\n",
    "\n"
   ]
  },
  {
   "cell_type": "markdown",
   "metadata": {},
   "source": [
    "#### Hypothesis 2: Risk Differences Between Zip Codes"
   ]
  },
  {
   "cell_type": "code",
   "execution_count": 108,
   "metadata": {},
   "outputs": [],
   "source": [
    "# Split data based on Postal Code\n",
    "group_A = data[data['PostalCode'] == 122]  # Group A: Postal Code 122\n",
    "group_B = data[data['PostalCode'] == 8000]  # Group B: Postal Code 8000\n",
    "\n",
    "# Perform statistical tests for equivalence (repeat the chi-square and t-test as above for other features)\n"
   ]
  },
  {
   "cell_type": "code",
   "execution_count": 109,
   "metadata": {},
   "outputs": [
    {
     "name": "stdout",
     "output_type": "stream",
     "text": [
      "T-Test for Total Claims between Postal Code 1001 and 2001: T-Statistic = -0.7916125704983136, p-value = 0.42858970670051955\n",
      "Fail to reject the null hypothesis: There are no significant risk differences between postal codes.\n"
     ]
    }
   ],
   "source": [
    "# Perform T-test on TotalClaims\n",
    "t_stat_claims, p_claims = ttest_ind(group_A['TotalClaims'], group_B['TotalClaims'], nan_policy='omit')\n",
    "\n",
    "# Output result\n",
    "print(f\"T-Test for Total Claims between Postal Code 1001 and 2001: T-Statistic = {t_stat_claims}, p-value = {p_claims}\")\n",
    "\n",
    "# Interpret the result\n",
    "if p_claims < 0.05:\n",
    "    print(\"Reject the null hypothesis: There are significant risk differences between postal codes.\")\n",
    "else:\n",
    "    print(\"Fail to reject the null hypothesis: There are no significant risk differences between postal codes.\")\n"
   ]
  },
  {
   "cell_type": "markdown",
   "metadata": {},
   "source": [
    "#### Hypothesis 3: Profit Margin Differences Between Zip Codes"
   ]
  },
  {
   "cell_type": "code",
   "execution_count": 112,
   "metadata": {},
   "outputs": [
    {
     "name": "stdout",
     "output_type": "stream",
     "text": [
      "T-Test for Profit between Postal Code 1001 and 2001: T-Statistic = -0.7915742130225282, p-value = 0.4286091775658968\n",
      "Fail to reject the null hypothesis: There are no significant profit margin differences between postal codes.\n"
     ]
    }
   ],
   "source": [
    "# Calculate Profit for both groups\n",
    "group_A['Profit'] = group_A['TotalPremium'] - group_A['TotalClaims']\n",
    "group_B['Profit'] = group_B['TotalPremium'] - group_B['TotalClaims']\n",
    "\n",
    "# Perform T-test on Profit\n",
    "t_stat_profit, p_profit = ttest_ind(group_A['Profit'], group_B['Profit'], nan_policy='omit')\n",
    "\n",
    "# Output result\n",
    "print(f\"T-Test for Profit between Postal Code 1001 and 2001: T-Statistic = {t_stat_profit}, p-value = {p_profit}\")\n",
    "\n",
    "# Interpret the result\n",
    "if p_profit < 0.05:\n",
    "    print(\"Reject the null hypothesis: There are significant profit margin differences between postal codes.\")\n",
    "else:\n",
    "    print(\"Fail to reject the null hypothesis: There are no significant profit margin differences between postal codes.\")\n"
   ]
  },
  {
   "cell_type": "markdown",
   "metadata": {},
   "source": [
    "#### Hypothesis 4: Risk Differences Between Men and Women"
   ]
  },
  {
   "cell_type": "markdown",
   "metadata": {},
   "source": [
    "##### Step 1:  Data Segmentation"
   ]
  },
  {
   "cell_type": "code",
   "execution_count": 113,
   "metadata": {},
   "outputs": [],
   "source": [
    "# Split data by Gender\n",
    "group_A = data[data['Gender'] == 'Male']  # Group A: Male\n",
    "group_B = data[data['Gender'] == 'Female']  # Group B: Female\n",
    "\n"
   ]
  },
  {
   "cell_type": "markdown",
   "metadata": {},
   "source": [
    "##### Step 2: Perform Hypothesis Testing"
   ]
  },
  {
   "cell_type": "code",
   "execution_count": 114,
   "metadata": {},
   "outputs": [
    {
     "name": "stdout",
     "output_type": "stream",
     "text": [
      "T-Test for Total Claims between Men and Women: T-Statistic = 2.106521469743276, p-value = 0.03515933145724895\n",
      "Reject the null hypothesis: There are significant risk differences between men and women.\n"
     ]
    }
   ],
   "source": [
    "# Perform T-test on TotalClaims\n",
    "t_stat_claims, p_claims = ttest_ind(group_A['TotalClaims'], group_B['TotalClaims'], nan_policy='omit')\n",
    "\n",
    "# Output result\n",
    "print(f\"T-Test for Total Claims between Men and Women: T-Statistic = {t_stat_claims}, p-value = {p_claims}\")\n",
    "\n",
    "# Interpret the result\n",
    "if p_claims < 0.05:\n",
    "    print(\"Reject the null hypothesis: There are significant risk differences between men and women.\")\n",
    "else:\n",
    "    print(\"Fail to reject the null hypothesis: There are no significant risk differences between men and women\")"
   ]
  },
  {
   "cell_type": "code",
   "execution_count": null,
   "metadata": {},
   "outputs": [],
   "source": []
  }
 ],
 "metadata": {
  "kernelspec": {
   "display_name": ".venv",
   "language": "python",
   "name": "python3"
  },
  "language_info": {
   "codemirror_mode": {
    "name": "ipython",
    "version": 3
   },
   "file_extension": ".py",
   "mimetype": "text/x-python",
   "name": "python",
   "nbconvert_exporter": "python",
   "pygments_lexer": "ipython3",
   "version": "3.11.5"
  }
 },
 "nbformat": 4,
 "nbformat_minor": 2
}
